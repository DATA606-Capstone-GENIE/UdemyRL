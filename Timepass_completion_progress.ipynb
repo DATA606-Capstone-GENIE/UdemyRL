{
 "cells": [
  {
   "cell_type": "code",
   "execution_count": 1,
   "id": "5d1c4f9b",
   "metadata": {},
   "outputs": [],
   "source": [
    "def total_calculations (sections):\n",
    "    total_videos = 0\n",
    "    total_mins = 0\n",
    "    for videos, mins in sections:\n",
    "        total_videos += videos\n",
    "        total_mins += mins\n",
    "    return total_videos, total_mins\n",
    "\n",
    "def min_to_hours(mins):\n",
    "    return f\"{int(mins/60)}hour {int(mins % 60)} mins\"\n",
    "\n",
    "def progress(section_id,video_id):\n",
    "    sections = [(6,33),(16,78),(5,29), (13,84), (6,38), (3,4)]\n",
    "    ActualTotal_mins = 630\n",
    "    total_videos, total_mins = total_calculations(sections)\n",
    "    completed_videos = 0\n",
    "    completed_mins = 0\n",
    "    for i in range(section_id-7):\n",
    "        videos,mins = sections[i]\n",
    "        completed_videos += videos\n",
    "        completed_mins += mins\n",
    "    print(f\"Completed Mins:{min_to_hours(completed_mins)}\")\n",
    "    print(f\"Progress: {round(completed_mins * 100 /total_mins , 2)}\")\n",
    "    print(f\"Remaining Mins:{min_to_hours(total_mins - completed_mins)}\")\n",
    "    print(f\"Remaining precent: {round((total_mins - completed_mins) * 100 /ActualTotal_mins,2)}\")\n"
   ]
  },
  {
   "cell_type": "code",
   "execution_count": 2,
   "id": "395d6191",
   "metadata": {},
   "outputs": [
    {
     "name": "stdout",
     "output_type": "stream",
     "text": [
      "Completed Mins:0hour 33 mins\n",
      "Progress: 12.41\n",
      "Remaining Mins:3hour 53 mins\n",
      "Remaining precent: 36.98\n"
     ]
    }
   ],
   "source": [
    "progress(8,1)"
   ]
  },
  {
   "cell_type": "code",
   "execution_count": 3,
   "id": "065019de",
   "metadata": {},
   "outputs": [
    {
     "name": "stdout",
     "output_type": "stream",
     "text": [
      "Completed Mins:1hour 51 mins\n",
      "Progress: 41.73\n",
      "Remaining Mins:2hour 35 mins\n",
      "Remaining precent: 24.6\n"
     ]
    }
   ],
   "source": [
    "progress(9,1)"
   ]
  },
  {
   "cell_type": "code",
   "execution_count": 4,
   "id": "d653694a",
   "metadata": {},
   "outputs": [
    {
     "name": "stdout",
     "output_type": "stream",
     "text": [
      "Completed Mins:2hour 20 mins\n",
      "Progress: 52.63\n",
      "Remaining Mins:2hour 6 mins\n",
      "Remaining precent: 20.0\n"
     ]
    }
   ],
   "source": [
    "progress(10,1)"
   ]
  },
  {
   "cell_type": "code",
   "execution_count": 5,
   "id": "9e60982a",
   "metadata": {},
   "outputs": [
    {
     "name": "stdout",
     "output_type": "stream",
     "text": [
      "Completed Mins:3hour 44 mins\n",
      "Progress: 84.21\n",
      "Remaining Mins:0hour 42 mins\n",
      "Remaining precent: 6.67\n"
     ]
    }
   ],
   "source": [
    "progress(11,1)"
   ]
  },
  {
   "cell_type": "code",
   "execution_count": 6,
   "id": "91c43aed",
   "metadata": {},
   "outputs": [
    {
     "name": "stdout",
     "output_type": "stream",
     "text": [
      "Completed Mins:4hour 22 mins\n",
      "Progress: 98.5\n",
      "Remaining Mins:0hour 4 mins\n",
      "Remaining precent: 0.63\n"
     ]
    }
   ],
   "source": [
    "progress(12,1)"
   ]
  },
  {
   "cell_type": "code",
   "execution_count": 7,
   "id": "a36cb132",
   "metadata": {},
   "outputs": [
    {
     "name": "stdout",
     "output_type": "stream",
     "text": [
      "Completed Mins:4hour 26 mins\n",
      "Progress: 100.0\n",
      "Remaining Mins:0hour 0 mins\n",
      "Remaining precent: 0.0\n"
     ]
    }
   ],
   "source": [
    "progress(13,1)"
   ]
  },
  {
   "cell_type": "code",
   "execution_count": null,
   "id": "35133285",
   "metadata": {},
   "outputs": [],
   "source": []
  }
 ],
 "metadata": {
  "kernelspec": {
   "display_name": "Python 3 (ipykernel)",
   "language": "python",
   "name": "python3"
  },
  "language_info": {
   "codemirror_mode": {
    "name": "ipython",
    "version": 3
   },
   "file_extension": ".py",
   "mimetype": "text/x-python",
   "name": "python",
   "nbconvert_exporter": "python",
   "pygments_lexer": "ipython3",
   "version": "3.8.0"
  }
 },
 "nbformat": 4,
 "nbformat_minor": 5
}
